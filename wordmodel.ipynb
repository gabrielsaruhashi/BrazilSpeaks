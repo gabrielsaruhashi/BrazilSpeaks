{
 "cells": [
  {
   "cell_type": "code",
   "execution_count": 1,
   "metadata": {},
   "outputs": [
    {
     "name": "stderr",
     "output_type": "stream",
     "text": [
      "Using TensorFlow backend.\n"
     ]
    }
   ],
   "source": [
    "from __future__ import print_function\n",
    "from keras.callbacks import LambdaCallback\n",
    "from keras.models import Sequential\n",
    "from keras.layers import Dense, Activation\n",
    "from keras.layers import LSTM\n",
    "from keras.optimizers import RMSprop, Adam\n",
    "from keras.utils.data_utils import get_file\n",
    "import numpy as np\n",
    "import pandas as pd\n",
    "import random\n",
    "import sys\n",
    "import io\n",
    "import re\n",
    "from unidecode import unidecode\n",
    "import os\n",
    "os.environ['KMP_DUPLICATE_LIB_OK']='True'"
   ]
  },
  {
   "cell_type": "code",
   "execution_count": 2,
   "metadata": {},
   "outputs": [],
   "source": [
    "csv = 'brz_dictatorship.csv'\n",
    "songs = pd.read_csv(csv)"
   ]
  },
  {
   "cell_type": "code",
   "execution_count": 3,
   "metadata": {},
   "outputs": [],
   "source": [
    "def get_tokenized_lines(df):\n",
    "    words = []\n",
    "    \n",
    "    for index, row in df['song_lyrics'].iteritems():\n",
    "        row = str(row).lower()\n",
    "        for line in row.split('|-|'):\n",
    "            new_words = re.findall(r\"\\b[a-z']+\\b\", unidecode(line))\n",
    "            words = words + new_words\n",
    "    \n",
    "    return words"
   ]
  },
  {
   "cell_type": "code",
   "execution_count": 4,
   "metadata": {},
   "outputs": [],
   "source": [
    "all_lyric_lines = get_tokenized_lines(songs)"
   ]
  },
  {
   "cell_type": "code",
   "execution_count": 5,
   "metadata": {},
   "outputs": [
    {
     "name": "stdout",
     "output_type": "stream",
     "text": [
      "Total Sequences: 19402\n"
     ]
    }
   ],
   "source": [
    "SEQ_LENGTH = 50 + 1\n",
    "sequences = list()\n",
    "\n",
    "for i in range(SEQ_LENGTH, len(all_lyric_lines)):\n",
    "    seq = all_lyric_lines[i - SEQ_LENGTH: i]\n",
    "    sequences.append(seq)\n",
    "\n",
    "print('Total Sequences: %d' % len(sequences))"
   ]
  },
  {
   "cell_type": "code",
   "execution_count": 6,
   "metadata": {},
   "outputs": [],
   "source": [
    "def save_doc(lines, filename):\n",
    "    for line in lines:\n",
    "        data = ' '.join(line)\n",
    "        \n",
    "    '\\n'.join(data)\n",
    "    file = open(filename, 'w')\n",
    "    file.write(data)\n",
    "    file.close()"
   ]
  },
  {
   "cell_type": "code",
   "execution_count": 7,
   "metadata": {},
   "outputs": [],
   "source": [
    "out_filename = 'sequences.txt'\n",
    "save_doc(sequences, out_filename)"
   ]
  },
  {
   "cell_type": "code",
   "execution_count": 8,
   "metadata": {},
   "outputs": [
    {
     "name": "stdout",
     "output_type": "stream",
     "text": [
      "vocabulary size: 4074\n"
     ]
    }
   ],
   "source": [
    "vocab = set(all_lyric_lines)\n",
    "\n",
    "word_to_index = {w: i for i, w in enumerate(vocab)}\n",
    "index_to_word = {i: w for w, i in word_to_index.items()}\n",
    "word_indices = [word_to_index[word] for word in vocab]\n",
    "vocab_size = len(vocab)\n",
    "\n",
    "print('vocabulary size: {}'.format(vocab_size))"
   ]
  },
  {
   "cell_type": "code",
   "execution_count": 9,
   "metadata": {},
   "outputs": [],
   "source": [
    "def get_tokenized_lines(lines, seq_len):\n",
    "    tokenized = np.zeros((len(lines), seq_len))\n",
    "    \n",
    "    for r, line in enumerate(lines):\n",
    "        for c, word in enumerate(line):\n",
    "            tokenized[r, c] = word_to_index[word]\n",
    "    return tokenized"
   ]
  },
  {
   "cell_type": "code",
   "execution_count": 10,
   "metadata": {},
   "outputs": [],
   "source": [
    "tokenized_seq = get_tokenized_lines(sequences, SEQ_LENGTH)"
   ]
  },
  {
   "cell_type": "code",
   "execution_count": 11,
   "metadata": {},
   "outputs": [
    {
     "data": {
      "text/plain": [
       "(19402,)"
      ]
     },
     "execution_count": 11,
     "metadata": {},
     "output_type": "execute_result"
    }
   ],
   "source": [
    "tokenized_seq[:, -1].shape"
   ]
  },
  {
   "cell_type": "code",
   "execution_count": 12,
   "metadata": {},
   "outputs": [],
   "source": [
    "from keras.utils import to_categorical\n",
    "\n",
    "X, y = tokenized_seq[:, :-1], tokenized_seq[:, -1]\n",
    "y = to_categorical(y, num_classes=vocab_size)\n",
    "seq_length = len(X[0])"
   ]
  },
  {
   "cell_type": "code",
   "execution_count": 13,
   "metadata": {},
   "outputs": [
    {
     "name": "stdout",
     "output_type": "stream",
     "text": [
      "X_shape (19402, 50)\n",
      "y_shape (19402, 4074)\n"
     ]
    }
   ],
   "source": [
    "print(\"X_shape\", X.shape)\n",
    "print(\"y_shape\", y.shape)"
   ]
  },
  {
   "cell_type": "code",
   "execution_count": 14,
   "metadata": {
    "scrolled": true
   },
   "outputs": [
    {
     "name": "stdout",
     "output_type": "stream",
     "text": [
      "_________________________________________________________________\n",
      "Layer (type)                 Output Shape              Param #   \n",
      "=================================================================\n",
      "embedding_1 (Embedding)      (None, 50, 50)            203700    \n",
      "_________________________________________________________________\n",
      "lstm_1 (LSTM)                (None, 50, 100)           60400     \n",
      "_________________________________________________________________\n",
      "lstm_2 (LSTM)                (None, 100)               80400     \n",
      "_________________________________________________________________\n",
      "dense_1 (Dense)              (None, 100)               10100     \n",
      "_________________________________________________________________\n",
      "dense_2 (Dense)              (None, 4074)              411474    \n",
      "=================================================================\n",
      "Total params: 766,074\n",
      "Trainable params: 766,074\n",
      "Non-trainable params: 0\n",
      "_________________________________________________________________\n",
      "None\n",
      "Epoch 1/50\n",
      "19402/19402 [==============================] - 94s 5ms/step - loss: 7.6027 - acc: 0.0342\n",
      "Epoch 2/50\n",
      "19402/19402 [==============================] - 88s 5ms/step - loss: 7.2560 - acc: 0.0350\n",
      "Epoch 3/50\n",
      "19402/19402 [==============================] - 83s 4ms/step - loss: 7.1056 - acc: 0.0353\n",
      "Epoch 4/50\n",
      "19402/19402 [==============================] - 82s 4ms/step - loss: 6.9436 - acc: 0.0353\n",
      "Epoch 5/50\n",
      "19402/19402 [==============================] - 86s 4ms/step - loss: 6.7831 - acc: 0.0354\n",
      "Epoch 6/50\n",
      "19402/19402 [==============================] - 92s 5ms/step - loss: 6.5995 - acc: 0.0379\n",
      "Epoch 7/50\n",
      "19402/19402 [==============================] - 91s 5ms/step - loss: 6.4499 - acc: 0.0381\n",
      "Epoch 8/50\n",
      "19402/19402 [==============================] - 84s 4ms/step - loss: 6.3353 - acc: 0.0395\n",
      "Epoch 9/50\n",
      "19402/19402 [==============================] - 76s 4ms/step - loss: 6.2373 - acc: 0.0421\n",
      "Epoch 10/50\n",
      "19402/19402 [==============================] - 81s 4ms/step - loss: 6.1470 - acc: 0.0429\n",
      "Epoch 11/50\n",
      "19402/19402 [==============================] - 96s 5ms/step - loss: 6.2888 - acc: 0.0468\n",
      "Epoch 12/50\n",
      "19402/19402 [==============================] - 93s 5ms/step - loss: 6.2093 - acc: 0.0501\n",
      "Epoch 13/50\n",
      "19402/19402 [==============================] - 91s 5ms/step - loss: 6.0095 - acc: 0.0555\n",
      "Epoch 14/50\n",
      "19402/19402 [==============================] - 89s 5ms/step - loss: 5.8412 - acc: 0.0633\n",
      "Epoch 15/50\n",
      "19402/19402 [==============================] - 83s 4ms/step - loss: 5.6791 - acc: 0.0726\n",
      "Epoch 16/50\n",
      "19402/19402 [==============================] - 87s 4ms/step - loss: 5.5057 - acc: 0.0856\n",
      "Epoch 17/50\n",
      "19402/19402 [==============================] - 88s 5ms/step - loss: 5.3400 - acc: 0.0941\n",
      "Epoch 18/50\n",
      "19402/19402 [==============================] - 97s 5ms/step - loss: 5.1807 - acc: 0.1051\n",
      "Epoch 19/50\n",
      "19402/19402 [==============================] - 85s 4ms/step - loss: 5.0247 - acc: 0.1151\n",
      "Epoch 20/50\n",
      "19402/19402 [==============================] - 88s 5ms/step - loss: 4.8754 - acc: 0.1299\n",
      "Epoch 21/50\n",
      "19402/19402 [==============================] - 85s 4ms/step - loss: 4.7312 - acc: 0.1394\n",
      "Epoch 22/50\n",
      "19402/19402 [==============================] - 86s 4ms/step - loss: 4.5954 - acc: 0.1508\n",
      "Epoch 23/50\n",
      "19402/19402 [==============================] - 103s 5ms/step - loss: 4.4406 - acc: 0.1682\n",
      "Epoch 24/50\n",
      "19402/19402 [==============================] - 96s 5ms/step - loss: 4.3122 - acc: 0.1812\n",
      "Epoch 25/50\n",
      "19402/19402 [==============================] - 88s 5ms/step - loss: 4.1829 - acc: 0.1940\n",
      "Epoch 26/50\n",
      "19402/19402 [==============================] - 102s 5ms/step - loss: 4.0550 - acc: 0.2099\n",
      "Epoch 27/50\n",
      "19402/19402 [==============================] - 124s 6ms/step - loss: 3.9401 - acc: 0.2268\n",
      "Epoch 28/50\n",
      "19402/19402 [==============================] - 88s 5ms/step - loss: 3.8131 - acc: 0.2443\n",
      "Epoch 29/50\n",
      "19402/19402 [==============================] - 89s 5ms/step - loss: 3.7092 - acc: 0.2605\n",
      "Epoch 30/50\n",
      "19402/19402 [==============================] - 106s 5ms/step - loss: 3.6016 - acc: 0.2715\n",
      "Epoch 31/50\n",
      "19402/19402 [==============================] - 127s 7ms/step - loss: 3.4936 - acc: 0.2909\n",
      "Epoch 32/50\n",
      "19402/19402 [==============================] - 104s 5ms/step - loss: 3.3917 - acc: 0.3096\n",
      "Epoch 33/50\n",
      "19402/19402 [==============================] - 103s 5ms/step - loss: 3.3094 - acc: 0.3207\n",
      "Epoch 34/50\n",
      "19402/19402 [==============================] - 119s 6ms/step - loss: 3.2101 - acc: 0.3405\n",
      "Epoch 35/50\n",
      "19402/19402 [==============================] - 119s 6ms/step - loss: 3.1272 - acc: 0.3514\n",
      "Epoch 36/50\n",
      "19402/19402 [==============================] - 94s 5ms/step - loss: 3.0512 - acc: 0.3705\n",
      "Epoch 37/50\n",
      "19402/19402 [==============================] - 102s 5ms/step - loss: 2.9622 - acc: 0.3796\n",
      "Epoch 38/50\n",
      "19402/19402 [==============================] - 94s 5ms/step - loss: 2.8804 - acc: 0.3998\n",
      "Epoch 39/50\n",
      "19402/19402 [==============================] - 90s 5ms/step - loss: 2.7914 - acc: 0.4171\n",
      "Epoch 40/50\n",
      "19402/19402 [==============================] - 103s 5ms/step - loss: 2.7281 - acc: 0.4263\n",
      "Epoch 41/50\n",
      "19402/19402 [==============================] - 97s 5ms/step - loss: 2.6568 - acc: 0.4399\n",
      "Epoch 42/50\n",
      "19402/19402 [==============================] - 95s 5ms/step - loss: 2.5935 - acc: 0.4529\n",
      "Epoch 43/50\n",
      "19402/19402 [==============================] - 95s 5ms/step - loss: 2.5185 - acc: 0.4647\n",
      "Epoch 44/50\n",
      "19402/19402 [==============================] - 96s 5ms/step - loss: 2.4797 - acc: 0.4731\n",
      "Epoch 45/50\n",
      "19402/19402 [==============================] - 88s 5ms/step - loss: 2.4070 - acc: 0.4888\n",
      "Epoch 46/50\n",
      "19402/19402 [==============================] - 96s 5ms/step - loss: 2.3432 - acc: 0.4983\n",
      "Epoch 47/50\n",
      "19402/19402 [==============================] - 92s 5ms/step - loss: 2.2821 - acc: 0.5121\n",
      "Epoch 48/50\n",
      "19402/19402 [==============================] - 95s 5ms/step - loss: 2.2337 - acc: 0.5175\n",
      "Epoch 49/50\n",
      "19402/19402 [==============================] - 100s 5ms/step - loss: 2.1711 - acc: 0.5307\n",
      "Epoch 50/50\n",
      "19402/19402 [==============================] - 102s 5ms/step - loss: 2.1095 - acc: 0.5428\n"
     ]
    }
   ],
   "source": [
    "from keras.models import Sequential\n",
    "from keras.layers import Dense, Flatten, LSTM, Conv1D, MaxPooling1D, Dropout, Activation, Embedding\n",
    "\n",
    "\n",
    "model = Sequential()\n",
    "model.add(Embedding(vocab_size, 50, input_length=seq_length))\n",
    "model.add(LSTM(100, return_sequences=True))\n",
    "model.add(LSTM(100))\n",
    "model.add(Dense(100, activation='relu'))\n",
    "model.add(Dense(vocab_size, activation='softmax'))\n",
    "print(model.summary())\n",
    "\n",
    "model.compile(loss='categorical_crossentropy', optimizer='adam', metrics=['accuracy'])\n",
    "history = model.fit(X, y, batch_size=128, epochs=50)"
   ]
  },
  {
   "cell_type": "code",
   "execution_count": 154,
   "metadata": {},
   "outputs": [
    {
     "data": {
      "image/svg+xml": [
       "<svg height=\"410pt\" viewBox=\"0.00 0.00 172.14 410.00\" width=\"172pt\" xmlns=\"http://www.w3.org/2000/svg\" xmlns:xlink=\"http://www.w3.org/1999/xlink\">\n",
       "<g class=\"graph\" id=\"graph0\" transform=\"scale(1 1) rotate(0) translate(4 406)\">\n",
       "<title>G</title>\n",
       "<polygon fill=\"#ffffff\" points=\"-4,4 -4,-406 168.1416,-406 168.1416,4 -4,4\" stroke=\"transparent\"/>\n",
       "<!-- 49021264504 -->\n",
       "<g class=\"node\" id=\"node1\">\n",
       "<title>49021264504</title>\n",
       "<polygon fill=\"none\" points=\"0,-292.5 0,-328.5 164.1416,-328.5 164.1416,-292.5 0,-292.5\" stroke=\"#000000\"/>\n",
       "<text fill=\"#000000\" font-family=\"Times,serif\" font-size=\"14.00\" text-anchor=\"middle\" x=\"82.0708\" y=\"-306.3\">embedding_1: Embedding</text>\n",
       "</g>\n",
       "<!-- 49021264784 -->\n",
       "<g class=\"node\" id=\"node2\">\n",
       "<title>49021264784</title>\n",
       "<polygon fill=\"none\" points=\"32.6484,-219.5 32.6484,-255.5 131.4932,-255.5 131.4932,-219.5 32.6484,-219.5\" stroke=\"#000000\"/>\n",
       "<text fill=\"#000000\" font-family=\"Times,serif\" font-size=\"14.00\" text-anchor=\"middle\" x=\"82.0708\" y=\"-233.3\">lstm_1: LSTM</text>\n",
       "</g>\n",
       "<!-- 49021264504&#45;&gt;49021264784 -->\n",
       "<g class=\"edge\" id=\"edge2\">\n",
       "<title>49021264504-&gt;49021264784</title>\n",
       "<path d=\"M82.0708,-292.4551C82.0708,-284.3828 82.0708,-274.6764 82.0708,-265.6817\" fill=\"none\" stroke=\"#000000\"/>\n",
       "<polygon fill=\"#000000\" points=\"85.5709,-265.5903 82.0708,-255.5904 78.5709,-265.5904 85.5709,-265.5903\" stroke=\"#000000\"/>\n",
       "</g>\n",
       "<!-- 49021265344 -->\n",
       "<g class=\"node\" id=\"node3\">\n",
       "<title>49021265344</title>\n",
       "<polygon fill=\"none\" points=\"32.6484,-146.5 32.6484,-182.5 131.4932,-182.5 131.4932,-146.5 32.6484,-146.5\" stroke=\"#000000\"/>\n",
       "<text fill=\"#000000\" font-family=\"Times,serif\" font-size=\"14.00\" text-anchor=\"middle\" x=\"82.0708\" y=\"-160.3\">lstm_2: LSTM</text>\n",
       "</g>\n",
       "<!-- 49021264784&#45;&gt;49021265344 -->\n",
       "<g class=\"edge\" id=\"edge3\">\n",
       "<title>49021264784-&gt;49021265344</title>\n",
       "<path d=\"M82.0708,-219.4551C82.0708,-211.3828 82.0708,-201.6764 82.0708,-192.6817\" fill=\"none\" stroke=\"#000000\"/>\n",
       "<polygon fill=\"#000000\" points=\"85.5709,-192.5903 82.0708,-182.5904 78.5709,-192.5904 85.5709,-192.5903\" stroke=\"#000000\"/>\n",
       "</g>\n",
       "<!-- 48689693528 -->\n",
       "<g class=\"node\" id=\"node4\">\n",
       "<title>48689693528</title>\n",
       "<polygon fill=\"none\" points=\"29.9448,-73.5 29.9448,-109.5 134.1968,-109.5 134.1968,-73.5 29.9448,-73.5\" stroke=\"#000000\"/>\n",
       "<text fill=\"#000000\" font-family=\"Times,serif\" font-size=\"14.00\" text-anchor=\"middle\" x=\"82.0708\" y=\"-87.3\">dense_1: Dense</text>\n",
       "</g>\n",
       "<!-- 49021265344&#45;&gt;48689693528 -->\n",
       "<g class=\"edge\" id=\"edge4\">\n",
       "<title>49021265344-&gt;48689693528</title>\n",
       "<path d=\"M82.0708,-146.4551C82.0708,-138.3828 82.0708,-128.6764 82.0708,-119.6817\" fill=\"none\" stroke=\"#000000\"/>\n",
       "<polygon fill=\"#000000\" points=\"85.5709,-119.5903 82.0708,-109.5904 78.5709,-119.5904 85.5709,-119.5903\" stroke=\"#000000\"/>\n",
       "</g>\n",
       "<!-- 49025160192 -->\n",
       "<g class=\"node\" id=\"node5\">\n",
       "<title>49025160192</title>\n",
       "<polygon fill=\"none\" points=\"29.9448,-.5 29.9448,-36.5 134.1968,-36.5 134.1968,-.5 29.9448,-.5\" stroke=\"#000000\"/>\n",
       "<text fill=\"#000000\" font-family=\"Times,serif\" font-size=\"14.00\" text-anchor=\"middle\" x=\"82.0708\" y=\"-14.3\">dense_2: Dense</text>\n",
       "</g>\n",
       "<!-- 48689693528&#45;&gt;49025160192 -->\n",
       "<g class=\"edge\" id=\"edge5\">\n",
       "<title>48689693528-&gt;49025160192</title>\n",
       "<path d=\"M82.0708,-73.4551C82.0708,-65.3828 82.0708,-55.6764 82.0708,-46.6817\" fill=\"none\" stroke=\"#000000\"/>\n",
       "<polygon fill=\"#000000\" points=\"85.5709,-46.5903 82.0708,-36.5904 78.5709,-46.5904 85.5709,-46.5903\" stroke=\"#000000\"/>\n",
       "</g>\n",
       "<!-- 49021264560 -->\n",
       "<g class=\"node\" id=\"node6\">\n",
       "<title>49021264560</title>\n",
       "<polygon fill=\"none\" points=\"35.5708,-365.5 35.5708,-401.5 128.5708,-401.5 128.5708,-365.5 35.5708,-365.5\" stroke=\"#000000\"/>\n",
       "<text fill=\"#000000\" font-family=\"Times,serif\" font-size=\"14.00\" text-anchor=\"middle\" x=\"82.0708\" y=\"-379.3\">49021264560</text>\n",
       "</g>\n",
       "<!-- 49021264560&#45;&gt;49021264504 -->\n",
       "<g class=\"edge\" id=\"edge1\">\n",
       "<title>49021264560-&gt;49021264504</title>\n",
       "<path d=\"M82.0708,-365.4551C82.0708,-357.3828 82.0708,-347.6764 82.0708,-338.6817\" fill=\"none\" stroke=\"#000000\"/>\n",
       "<polygon fill=\"#000000\" points=\"85.5709,-338.5903 82.0708,-328.5904 78.5709,-338.5904 85.5709,-338.5903\" stroke=\"#000000\"/>\n",
       "</g>\n",
       "</g>\n",
       "</svg>"
      ],
      "text/plain": [
       "<IPython.core.display.SVG object>"
      ]
     },
     "execution_count": 154,
     "metadata": {},
     "output_type": "execute_result"
    }
   ],
   "source": [
    "import matplotlib.pyplot as plt\n",
    "import keras\n",
    "import pydot as pyd\n",
    "from IPython.display import SVG\n",
    "from keras.utils.vis_utils import model_to_dot\n",
    "\n",
    "plot_model(model, to_file='model_plot.png', show_shapes=True, show_layer_names=True)\n"
   ]
  },
  {
   "cell_type": "code",
   "execution_count": 32,
   "metadata": {},
   "outputs": [
    {
     "data": {
      "text/plain": [
       "[<matplotlib.lines.Line2D at 0xb69e09c50>]"
      ]
     },
     "execution_count": 32,
     "metadata": {},
     "output_type": "execute_result"
    },
    {
     "data": {
      "image/png": "[encoded data removed]",
      "text/plain": [
       "<Figure size 432x288 with 1 Axes>"
      ]
     },
     "metadata": {
      "needs_background": "light"
     },
     "output_type": "display_data"
    }
   ],
   "source": [
    "plt.plot(history.history['loss'])"
   ]
  },
  {
   "cell_type": "code",
   "execution_count": 33,
   "metadata": {
    "scrolled": false
   },
   "outputs": [],
   "source": [
    "model.save('model.h5')"
   ]
  },
  {
   "cell_type": "code",
   "execution_count": 34,
   "metadata": {},
   "outputs": [],
   "source": [
    "from keras.models import load_model\n",
    "\n",
    "model = load_model('model.h5')"
   ]
  },
  {
   "cell_type": "code",
   "execution_count": 37,
   "metadata": {},
   "outputs": [],
   "source": [
    "def load_doc(filename):\n",
    "    file = open(filename, 'r')\n",
    "    text = file.read()\n",
    "    file.close()\n",
    "    return text\n",
    "# in_filename = 'data/clean_sequences.txt'\n",
    "# doc = load_doc(in_filename)\n",
    "# lines = doc.split('\\n')"
   ]
  },
  {
   "cell_type": "code",
   "execution_count": 38,
   "metadata": {},
   "outputs": [],
   "source": [
    "# load cleaned text sequences\n",
    "\n",
    "seq_length = SEQ_LENGTH - 1"
   ]
  },
  {
   "cell_type": "code",
   "execution_count": 149,
   "metadata": {},
   "outputs": [
    {
     "name": "stdout",
     "output_type": "stream",
     "text": [
      "51\n"
     ]
    }
   ],
   "source": [
    "seed_text = \"vai ja embora sol agora vai nascer sorriso calice morreeu sinto amor crescera brisa desliza friaparece falar amoreu sinto vocepor pertotodo carinho todo calor ja emborao sol agora vai nascerenquanto sorriso morreeu sinto amor crescera brisa desliza friaparece falar amoreu sinto  pertotodo carinho todo calor calice sangue problema roda viva morte\"\n",
    "print(len(seed_text.split()))\n"
   ]
  },
  {
   "cell_type": "code",
   "execution_count": 150,
   "metadata": {},
   "outputs": [],
   "source": [
    "def texts_to_sequences(texts, word_to_index):\n",
    "    indices = np.zeros((1, len(texts)), dtype=int)\n",
    "    \n",
    "    for i, text in enumerate(texts):\n",
    "        indices[:, i] = word_to_index[text]\n",
    "        \n",
    "    return indices"
   ]
  },
  {
   "cell_type": "code",
   "execution_count": 151,
   "metadata": {},
   "outputs": [],
   "source": [
    "def my_pad_sequences(seq, maxlen):\n",
    "    start = seq.shape[1] - maxlen\n",
    "    #print(start)\n",
    "    return seq[:, start: start + maxlen]"
   ]
  },
  {
   "cell_type": "code",
   "execution_count": 152,
   "metadata": {},
   "outputs": [],
   "source": [
    "def generate_seq(model, word_to_index, seq_length, seed_text, n_words):\n",
    "    result = list()\n",
    "    in_text = seed_text\n",
    "\n",
    "    for _ in range(n_words):\n",
    "        encoded = texts_to_sequences(in_text.split()[1:], word_to_index)\n",
    "        #print(encoded)\n",
    "        encoded = my_pad_sequences(encoded, maxlen=seq_length)\n",
    "        #print(encoded)\n",
    "        \n",
    "        yhat = model.predict_classes(encoded, verbose=0)\n",
    "        out_word = ''\n",
    "    \n",
    "        for word, index in word_to_index.items():\n",
    "            if index == yhat:\n",
    "                out_word = word\n",
    "                break\n",
    "        \n",
    "        in_text += ' ' + out_word\n",
    "        result.append(out_word)\n",
    "        \n",
    "    return ' '.join(result)"
   ]
  },
  {
   "cell_type": "code",
   "execution_count": 153,
   "metadata": {},
   "outputs": [
    {
     "name": "stdout",
     "output_type": "stream",
     "text": [
      "linda queriam pouca culpam cheguei atras fluminense funde ancho livres peito perdido dia sima d emandam tata estudar valsa alguemrefraof nuvens la sertaoos brucos queres negro gato choram diz sima dse erguem taca tata ideal guerrilheira contigoquero querem gloria vivem suspirar tocavam solenes garoa novos continua carcara autenticando passos atraves\n"
     ]
    }
   ],
   "source": [
    "generated = generate_seq(model, word_to_index, seq_length, seed_text, 50)\n",
    "print(generated)"
   ]
  },
  {
   "cell_type": "code",
   "execution_count": null,
   "metadata": {},
   "outputs": [],
   "source": []
  },
  {
   "cell_type": "code",
   "execution_count": null,
   "metadata": {},
   "outputs": [],
   "source": []
  }
 ],
 "metadata": {
  "kernelspec": {
   "display_name": "Python 3",
   "language": "python",
   "name": "python3"
  },
  "language_info": {
   "codemirror_mode": {
    "name": "ipython",
    "version": 3
   },
   "file_extension": ".py",
   "mimetype": "text/x-python",
   "name": "python",
   "nbconvert_exporter": "python",
   "pygments_lexer": "ipython3",
   "version": "3.6.8"
  }
 },
 "nbformat": 4,
 "nbformat_minor": 2
}
