{
 "cells": [
  {
   "cell_type": "code",
   "execution_count": null,
   "metadata": {},
   "outputs": [],
   "source": [
    "# define source csv\n",
    "csv = 'brz_dictatorship.csv'\n",
    "# load all songs\n",
    "\n",
    "songs = pd.read_csv(csv)\n",
    "\n",
    "# merge all the lyrics together into one huge string\n",
    "for index, row in songs['song_lyrics'].iteritems():\n",
    "    text = text + str(row).lower()\n",
    "    \n",
    "# find all the unique chracters\n",
    "chars = sorted(list(set(text)))\n",
    "print('total chars:', len(chars))\n",
    "\n",
    "# create a dictionary mapping chracter-to-index\n",
    "char_indices = dict((c, i) for i, c in enumerate(chars))\n",
    "\n",
    "# create a dictionary mapping index-to-chracter\n",
    "indices_char = dict((i, c) for i, c in enumerate(chars))\n",
    "\n",
    "# cut the text into sequences\n",
    "maxlen = 20\n",
    "step = 1 # step size at every iteration\n",
    "sentences = [] # list of sequences\n",
    "next_chars = [] # list of next chracters that our model should predict\n",
    "\n",
    "# iterate over text and save sequences into lists\n",
    "for i in range(0, len(text) - maxlen, step):\n",
    "    sentences.append(text[i: i + maxlen])\n",
    "    next_chars.append(text[i + maxlen])\n",
    "    \n",
    "# create empty matrices for input and output sets \n",
    "x = np.zeros((len(sentences), maxlen, len(chars)), dtype=np.bool)\n",
    "y = np.zeros((len(sentences), len(chars)), dtype=np.bool)\n",
    "\n",
    "# iterate over the matrices and convert all characters to numbers\n",
    "# basically Label Encoding process and One Hot vectorization\n",
    "for i, sentence in enumerate(sentences):\n",
    "    for t, char in enumerate(sentence):\n",
    "        x[i, t, char_indices[char]] = 1\n",
    "    y[i, char_indices[next_chars[i]]] = 1"
   ]
  }
 ],
 "metadata": {
  "kernelspec": {
   "display_name": "Python 3",
   "language": "python",
   "name": "python3"
  },
  "language_info": {
   "codemirror_mode": {
    "name": "ipython",
    "version": 3
   },
   "file_extension": ".py",
   "mimetype": "text/x-python",
   "name": "python",
   "nbconvert_exporter": "python",
   "pygments_lexer": "ipython3",
   "version": "3.6.8"
  }
 },
 "nbformat": 4,
 "nbformat_minor": 2
}
